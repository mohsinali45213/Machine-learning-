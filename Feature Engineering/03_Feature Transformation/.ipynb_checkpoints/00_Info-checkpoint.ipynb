{
 "cells": [
  {
   "cell_type": "markdown",
   "id": "061e1ea9-ea6d-4c89-918b-1a38e60fb09d",
   "metadata": {},
   "source": [
    "#### <b><code>Transformation of Features</code><b>\n",
    "<b>Why Transformation of Features Are Required?</b>\n",
    "<pre>1. Linear Regression---Gradient Descent ----Global Minima\n",
    "2. Algorithms like KNN,K Means,Hierarichal Clustering--- Eucledian Distance\n",
    "Every Point has some vectors and Directiom\n",
    "\n",
    "Deep Learning Techniques(Standardization, Scaling) 1.ANN--->GLobal Minima, Gradient 2.CNN 3.RNN\n",
    "\n",
    "0-255 pixels</pre>\n",
    "\n",
    "<b><code>Types Of Transformation</code></b>\n",
    "<pre>1. Normalization And Standardization\n",
    "2. Scaling to Minimum And Maximum values\n",
    "3. Scaling To Median And Quantiles\n",
    "4. Guassian Transformation \n",
    "   Logarithmic Transformation \n",
    "   Reciprocal Trnasformation \n",
    "   Square Root Transformation \n",
    "   Exponential Trnasformation \n",
    "   Box Cox Transformation</pre>"
   ]
  },
  {
   "cell_type": "code",
   "execution_count": null,
   "id": "dcc24b55-cf28-4c68-bdcc-12c462b4b632",
   "metadata": {},
   "outputs": [],
   "source": []
  }
 ],
 "metadata": {
  "kernelspec": {
   "display_name": "Python 3 (ipykernel)",
   "language": "python",
   "name": "python3"
  },
  "language_info": {
   "codemirror_mode": {
    "name": "ipython",
    "version": 3
   },
   "file_extension": ".py",
   "mimetype": "text/x-python",
   "name": "python",
   "nbconvert_exporter": "python",
   "pygments_lexer": "ipython3",
   "version": "3.12.5"
  },
  "widgets": {
   "application/vnd.jupyter.widget-state+json": {
    "state": {},
    "version_major": 2,
    "version_minor": 0
   }
  }
 },
 "nbformat": 4,
 "nbformat_minor": 5
}
