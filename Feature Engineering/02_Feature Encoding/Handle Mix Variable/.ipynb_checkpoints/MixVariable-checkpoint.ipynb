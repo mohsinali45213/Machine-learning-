{
 "cells": [
  {
   "cell_type": "code",
   "execution_count": 24,
   "id": "16a51c9d-7e56-4184-98e4-e024805545c8",
   "metadata": {},
   "outputs": [],
   "source": [
    "import pandas as pd\n",
    "import numpy as np"
   ]
  },
  {
   "cell_type": "code",
   "execution_count": 25,
   "id": "7c497a79-f887-4d03-a14d-1c07cae9204a",
   "metadata": {},
   "outputs": [
    {
     "data": {
      "text/html": [
       "<div>\n",
       "<style scoped>\n",
       "    .dataframe tbody tr th:only-of-type {\n",
       "        vertical-align: middle;\n",
       "    }\n",
       "\n",
       "    .dataframe tbody tr th {\n",
       "        vertical-align: top;\n",
       "    }\n",
       "\n",
       "    .dataframe thead th {\n",
       "        text-align: right;\n",
       "    }\n",
       "</style>\n",
       "<table border=\"1\" class=\"dataframe\">\n",
       "  <thead>\n",
       "    <tr style=\"text-align: right;\">\n",
       "      <th></th>\n",
       "      <th>number</th>\n",
       "      <th>class</th>\n",
       "    </tr>\n",
       "  </thead>\n",
       "  <tbody>\n",
       "    <tr>\n",
       "      <th>0</th>\n",
       "      <td>A</td>\n",
       "      <td>A3</td>\n",
       "    </tr>\n",
       "    <tr>\n",
       "      <th>1</th>\n",
       "      <td>6</td>\n",
       "      <td>D5</td>\n",
       "    </tr>\n",
       "    <tr>\n",
       "      <th>2</th>\n",
       "      <td>C</td>\n",
       "      <td>B12</td>\n",
       "    </tr>\n",
       "    <tr>\n",
       "      <th>3</th>\n",
       "      <td>D</td>\n",
       "      <td>C153</td>\n",
       "    </tr>\n",
       "    <tr>\n",
       "      <th>4</th>\n",
       "      <td>4</td>\n",
       "      <td>B65</td>\n",
       "    </tr>\n",
       "  </tbody>\n",
       "</table>\n",
       "</div>"
      ],
      "text/plain": [
       "  number class\n",
       "0      A    A3\n",
       "1      6    D5\n",
       "2      C   B12\n",
       "3      D  C153\n",
       "4      4   B65"
      ]
     },
     "execution_count": 25,
     "metadata": {},
     "output_type": "execute_result"
    }
   ],
   "source": [
    "df = pd.DataFrame({\n",
    "    \"number\":[\"A\",6,\"C\",\"D\",4,9,1],\n",
    "    \"class\":[\"A3\",\"D5\",\"B12\",\"C153\",\"B65\",\"A1\",\"C43\"]\n",
    "})\n",
    "df.head()"
   ]
  },
  {
   "cell_type": "code",
   "execution_count": 26,
   "id": "cbda1d79-ea96-426b-95d3-e7e219217f67",
   "metadata": {},
   "outputs": [],
   "source": [
    "# Extract numrical part from number \n",
    "df[\"numeric_number\"] =  pd.to_numeric(df[\"number\"],errors=\"coerce\",downcast=\"integer\")"
   ]
  },
  {
   "cell_type": "code",
   "execution_count": 27,
   "id": "f8694408-9890-4e68-81fa-66053daeec87",
   "metadata": {},
   "outputs": [],
   "source": [
    "# Extract Categorical part from number \n",
    "df[\"categorical_number\"] = np.where(df[\"numeric_number\"].isnull(),df[\"number\"],np.nan)"
   ]
  },
  {
   "cell_type": "code",
   "execution_count": 28,
   "id": "9c630e56-6a9b-45cf-bc50-a9f9c7928d94",
   "metadata": {},
   "outputs": [],
   "source": [
    "# Extract Categorical part from Class \n",
    "df[\"categorical_class\"] = df[\"class\"].str.extract(r\"([A-Z])+\")"
   ]
  },
  {
   "cell_type": "code",
   "execution_count": 29,
   "id": "54ac9ced-1f7c-40c4-b0f4-05143a98c38c",
   "metadata": {},
   "outputs": [],
   "source": [
    "# Extract numerical part from Class \n",
    "df[\"numerical_class\"] = df[\"class\"].str.extract(r\"(\\d+)\").astype(int)"
   ]
  },
  {
   "cell_type": "code",
   "execution_count": 30,
   "id": "cc8b3530-185f-43e3-9448-42fca2d71301",
   "metadata": {},
   "outputs": [
    {
     "data": {
      "text/html": [
       "<div>\n",
       "<style scoped>\n",
       "    .dataframe tbody tr th:only-of-type {\n",
       "        vertical-align: middle;\n",
       "    }\n",
       "\n",
       "    .dataframe tbody tr th {\n",
       "        vertical-align: top;\n",
       "    }\n",
       "\n",
       "    .dataframe thead th {\n",
       "        text-align: right;\n",
       "    }\n",
       "</style>\n",
       "<table border=\"1\" class=\"dataframe\">\n",
       "  <thead>\n",
       "    <tr style=\"text-align: right;\">\n",
       "      <th></th>\n",
       "      <th>number</th>\n",
       "      <th>class</th>\n",
       "      <th>numeric_number</th>\n",
       "      <th>categorical_number</th>\n",
       "      <th>categorical_class</th>\n",
       "      <th>numerical_class</th>\n",
       "    </tr>\n",
       "  </thead>\n",
       "  <tbody>\n",
       "    <tr>\n",
       "      <th>0</th>\n",
       "      <td>A</td>\n",
       "      <td>A3</td>\n",
       "      <td>NaN</td>\n",
       "      <td>A</td>\n",
       "      <td>A</td>\n",
       "      <td>3</td>\n",
       "    </tr>\n",
       "    <tr>\n",
       "      <th>1</th>\n",
       "      <td>6</td>\n",
       "      <td>D5</td>\n",
       "      <td>6.0</td>\n",
       "      <td>NaN</td>\n",
       "      <td>D</td>\n",
       "      <td>5</td>\n",
       "    </tr>\n",
       "    <tr>\n",
       "      <th>2</th>\n",
       "      <td>C</td>\n",
       "      <td>B12</td>\n",
       "      <td>NaN</td>\n",
       "      <td>C</td>\n",
       "      <td>B</td>\n",
       "      <td>12</td>\n",
       "    </tr>\n",
       "    <tr>\n",
       "      <th>3</th>\n",
       "      <td>D</td>\n",
       "      <td>C153</td>\n",
       "      <td>NaN</td>\n",
       "      <td>D</td>\n",
       "      <td>C</td>\n",
       "      <td>153</td>\n",
       "    </tr>\n",
       "    <tr>\n",
       "      <th>4</th>\n",
       "      <td>4</td>\n",
       "      <td>B65</td>\n",
       "      <td>4.0</td>\n",
       "      <td>NaN</td>\n",
       "      <td>B</td>\n",
       "      <td>65</td>\n",
       "    </tr>\n",
       "  </tbody>\n",
       "</table>\n",
       "</div>"
      ],
      "text/plain": [
       "  number class  numeric_number categorical_number categorical_class  \\\n",
       "0      A    A3             NaN                  A                 A   \n",
       "1      6    D5             6.0                NaN                 D   \n",
       "2      C   B12             NaN                  C                 B   \n",
       "3      D  C153             NaN                  D                 C   \n",
       "4      4   B65             4.0                NaN                 B   \n",
       "\n",
       "   numerical_class  \n",
       "0                3  \n",
       "1                5  \n",
       "2               12  \n",
       "3              153  \n",
       "4               65  "
      ]
     },
     "execution_count": 30,
     "metadata": {},
     "output_type": "execute_result"
    }
   ],
   "source": [
    "df.head()"
   ]
  },
  {
   "cell_type": "code",
   "execution_count": null,
   "id": "1c2c1bc6-06f6-486f-9e1f-f985361c2530",
   "metadata": {},
   "outputs": [],
   "source": []
  },
  {
   "cell_type": "code",
   "execution_count": null,
   "id": "a70fcec3-9b2d-4402-9e49-31ed07ee50cb",
   "metadata": {},
   "outputs": [],
   "source": []
  }
 ],
 "metadata": {
  "kernelspec": {
   "display_name": "Python 3 (ipykernel)",
   "language": "python",
   "name": "python3"
  },
  "language_info": {
   "codemirror_mode": {
    "name": "ipython",
    "version": 3
   },
   "file_extension": ".py",
   "mimetype": "text/x-python",
   "name": "python",
   "nbconvert_exporter": "python",
   "pygments_lexer": "ipython3",
   "version": "3.12.5"
  },
  "widgets": {
   "application/vnd.jupyter.widget-state+json": {
    "state": {},
    "version_major": 2,
    "version_minor": 0
   }
  }
 },
 "nbformat": 4,
 "nbformat_minor": 5
}
