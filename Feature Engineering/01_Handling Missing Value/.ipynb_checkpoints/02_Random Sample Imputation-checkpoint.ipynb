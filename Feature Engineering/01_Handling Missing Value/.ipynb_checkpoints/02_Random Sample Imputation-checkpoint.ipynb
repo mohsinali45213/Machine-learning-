{
 "cells": [
  {
   "cell_type": "markdown",
   "id": "13761b0b-6b84-4b8a-a139-b503c93eb33b",
   "metadata": {},
   "source": [
    "#### <b><code>2. Random Sample Imputation</code></b>\n",
    "<pre>Aim: Random sample imputation consists of taking random observation from the dataset and we use this observation to replace the nan values\n",
    "When should it be used? It assumes that the data are missing completely at random(MCAR)</pre>"
   ]
  },
  {
   "cell_type": "code",
   "execution_count": 23,
   "id": "bcb2bd5a-017e-4fbb-b13f-8a1ce12713e4",
   "metadata": {},
   "outputs": [
    {
     "data": {
      "text/html": [
       "<div>\n",
       "<style scoped>\n",
       "    .dataframe tbody tr th:only-of-type {\n",
       "        vertical-align: middle;\n",
       "    }\n",
       "\n",
       "    .dataframe tbody tr th {\n",
       "        vertical-align: top;\n",
       "    }\n",
       "\n",
       "    .dataframe thead th {\n",
       "        text-align: right;\n",
       "    }\n",
       "</style>\n",
       "<table border=\"1\" class=\"dataframe\">\n",
       "  <thead>\n",
       "    <tr style=\"text-align: right;\">\n",
       "      <th></th>\n",
       "      <th>Survived</th>\n",
       "      <th>Age</th>\n",
       "      <th>Fare</th>\n",
       "    </tr>\n",
       "  </thead>\n",
       "  <tbody>\n",
       "    <tr>\n",
       "      <th>0</th>\n",
       "      <td>0</td>\n",
       "      <td>22.0</td>\n",
       "      <td>7.2500</td>\n",
       "    </tr>\n",
       "    <tr>\n",
       "      <th>1</th>\n",
       "      <td>1</td>\n",
       "      <td>38.0</td>\n",
       "      <td>71.2833</td>\n",
       "    </tr>\n",
       "    <tr>\n",
       "      <th>2</th>\n",
       "      <td>1</td>\n",
       "      <td>26.0</td>\n",
       "      <td>7.9250</td>\n",
       "    </tr>\n",
       "    <tr>\n",
       "      <th>3</th>\n",
       "      <td>1</td>\n",
       "      <td>35.0</td>\n",
       "      <td>53.1000</td>\n",
       "    </tr>\n",
       "    <tr>\n",
       "      <th>4</th>\n",
       "      <td>0</td>\n",
       "      <td>35.0</td>\n",
       "      <td>8.0500</td>\n",
       "    </tr>\n",
       "  </tbody>\n",
       "</table>\n",
       "</div>"
      ],
      "text/plain": [
       "   Survived   Age     Fare\n",
       "0         0  22.0   7.2500\n",
       "1         1  38.0  71.2833\n",
       "2         1  26.0   7.9250\n",
       "3         1  35.0  53.1000\n",
       "4         0  35.0   8.0500"
      ]
     },
     "execution_count": 23,
     "metadata": {},
     "output_type": "execute_result"
    }
   ],
   "source": [
    "import pandas as pd \n",
    "import seaborn as sns\n",
    "import matplotlib.pyplot as plt\n",
    "%matplotlib inline\n",
    "\n",
    "df=pd.read_csv('../titanic.csv', usecols=['Age','Fare','Survived'])\n",
    "df.head()"
   ]
  },
  {
   "cell_type": "code",
   "execution_count": 24,
   "id": "9f1dd0d4-8502-45b9-8aac-f2f138e7b2f7",
   "metadata": {},
   "outputs": [
    {
     "data": {
      "text/plain": [
       "Survived      0\n",
       "Age         177\n",
       "Fare          0\n",
       "dtype: int64"
      ]
     },
     "execution_count": 24,
     "metadata": {},
     "output_type": "execute_result"
    }
   ],
   "source": [
    "## Total numbers of null value in each columns\n",
    "df.isnull().sum()"
   ]
  },
  {
   "cell_type": "code",
   "execution_count": 25,
   "id": "dd53dd16-d2ef-495a-aa2c-1b6f7e9eb97f",
   "metadata": {},
   "outputs": [
    {
     "data": {
      "text/plain": [
       "Survived    0.000000\n",
       "Age         0.198653\n",
       "Fare        0.000000\n",
       "dtype: float64"
      ]
     },
     "execution_count": 25,
     "metadata": {},
     "output_type": "execute_result"
    }
   ],
   "source": [
    "## Null value in percentage \n",
    "df.isnull().mean()"
   ]
  },
  {
   "cell_type": "code",
   "execution_count": 26,
   "id": "314e5ced-1b3a-478f-87a1-3f1f53d1706d",
   "metadata": {},
   "outputs": [],
   "source": [
    "def impute_Nun(df):\n",
    "    # Loop through all columns in the dataframe that have missing (null) values\n",
    "    for col in df.columns[df.isnull().any()]:\n",
    "        # Create a new column to store the imputed values, named as the original column + '_random'\n",
    "        df[f\"{col}_random\"] = df[col]\n",
    "        # Create a random sample from non-null values of the column. \n",
    "        # The sample size will match the number of missing values in the column.\n",
    "        random_sample = df[col].dropna().sample(df[col].isnull().sum(), random_state=0)\n",
    "        # Assign the random sample index to match the missing value index in the original column.\n",
    "        random_sample.index = df[df[col].isnull()].index\n",
    "        #Impute the missing values in the new column (e.g., 'age_random') with the random sample.\n",
    "        df.loc[df[col].isnull(), f\"{col}_random\"] = random_sample"
   ]
  },
  {
   "cell_type": "code",
   "execution_count": 27,
   "id": "43e440c0-b2ee-452d-a21f-4c578ca70435",
   "metadata": {},
   "outputs": [],
   "source": [
    "impute_Nun(df)"
   ]
  },
  {
   "cell_type": "code",
   "execution_count": 28,
   "id": "198ed9c6-ef0b-4323-b780-589abd2c5349",
   "metadata": {},
   "outputs": [
    {
     "data": {
      "text/plain": [
       "Survived        0\n",
       "Age           177\n",
       "Fare            0\n",
       "Age_random      0\n",
       "dtype: int64"
      ]
     },
     "execution_count": 28,
     "metadata": {},
     "output_type": "execute_result"
    }
   ],
   "source": [
    "df.isnull().sum()"
   ]
  },
  {
   "cell_type": "code",
   "execution_count": 32,
   "id": "72052d38-5443-4700-9237-6050b35b2009",
   "metadata": {
    "scrolled": true
   },
   "outputs": [
    {
     "data": {
      "text/plain": [
       "<matplotlib.legend.Legend at 0x1459757acc0>"
      ]
     },
     "execution_count": 32,
     "metadata": {},
     "output_type": "execute_result"
    },
    {
     "data": {
      "image/png": "[encoded data removed]",
      "text/plain": [
       "<Figure size 640x480 with 1 Axes>"
      ]
     },
     "metadata": {},
     "output_type": "display_data"
    }
   ],
   "source": [
    "fig = plt.figure()\n",
    "ax = fig.add_subplot(111)\n",
    "df['Age'].plot(kind='kde', ax=ax)\n",
    "# df.Age_median.plot(kind='kde', ax=ax, color='red')\n",
    "df.Age_random.plot(kind='kde', ax=ax, color='red')\n",
    "lines, labels = ax.get_legend_handles_labels()\n",
    "ax.legend(lines, labels, loc='best')"
   ]
  },
  {
   "cell_type": "markdown",
   "id": "16426635-d772-4543-bf69-f033921f958a",
   "metadata": {},
   "source": [
    "#### <b><code>Advantages</code></b>\n",
    "<pre>1. Easy To implement\n",
    "2. There is less distortion in variance</pre>\n",
    "#### <b><code>Disadvantages</code></b>\n",
    "<pre>1. Every situation randomness won't work</pre>"
   ]
  }
 ],
 "metadata": {
  "kernelspec": {
   "display_name": "Python 3 (ipykernel)",
   "language": "python",
   "name": "python3"
  },
  "language_info": {
   "codemirror_mode": {
    "name": "ipython",
    "version": 3
   },
   "file_extension": ".py",
   "mimetype": "text/x-python",
   "name": "python",
   "nbconvert_exporter": "python",
   "pygments_lexer": "ipython3",
   "version": "3.12.5"
  },
  "widgets": {
   "application/vnd.jupyter.widget-state+json": {
    "state": {},
    "version_major": 2,
    "version_minor": 0
   }
  }
 },
 "nbformat": 4,
 "nbformat_minor": 5
}
