{
 "cells": [
  {
   "cell_type": "code",
   "execution_count": 1,
   "id": "c704aad8-e1e8-4eaf-b35f-2dcc42c257d8",
   "metadata": {},
   "outputs": [],
   "source": [
    "# Empirical Cumulative Distribution Function\n",
    "\n",
    "# data: Data source to plot, such as DataFrame, Series, or array-like.\n",
    "# x: Variable name to be plotted on the x-axis.\n",
    "# y: (Rarely used in ECDF) Variable name to be plotted on the y-axis.\n",
    "# hue: Variable for grouping data to produce different colored plots.\n",
    "# weights: Weights to apply to the observations, if specified.\n",
    "# stat: Statistic to compute on data; options are 'proportion', 'percent', or 'count'.\n",
    "# complementary: Plots the complementary cumulative distribution function if set to True.\n",
    "# palette: Color palette specification for the hue variable.\n",
    "# hue_order: Order to plot levels of the hue variable.\n",
    "# hue_norm: Normalization of hue variable values to a specific range.\n",
    "# ax: Matplotlib axes on which to draw the plot.\n",
    "# log_scale: Sets the x-axis or y-axis to a logarithmic scale.\n",
    "# legend: Whether or not to add a legend to the plot.\n",
    "# line_kws: Additional keyword arguments for the underlying line plot.\n",
    "# marker: Marker style to use in the plot.\n",
    "# color: Single color specification for all lines, if no hue is used.\n",
    "# alpha: Transparency level of the plot elements.\n",
    "# linewidth: Width of the line in the ECDF plot.\n",
    "# linestyle: Style of the line, such as solid, dashed, etc.\n",
    "# fill: If True, fills the area under the ECDF curve.\n",
    "# common_norm: Normalizes across multiple ECDFs if set to True.\n",
    "# common_grid: Whether to share the grid of values for the ECDF across multiple groups.\n",
    "# clip: A tuple specifying the (min, max) range to limit the data values.\n",
    "# step: The method used for step interpolation; options are 'pre', 'post', or 'mid'."
   ]
  },
  {
   "cell_type": "code",
   "execution_count": 2,
   "id": "23286e8d-fb9b-4347-b4f1-6069a5dc05aa",
   "metadata": {},
   "outputs": [
    {
     "data": {
      "text/html": [
       "<div>\n",
       "<style scoped>\n",
       "    .dataframe tbody tr th:only-of-type {\n",
       "        vertical-align: middle;\n",
       "    }\n",
       "\n",
       "    .dataframe tbody tr th {\n",
       "        vertical-align: top;\n",
       "    }\n",
       "\n",
       "    .dataframe thead th {\n",
       "        text-align: right;\n",
       "    }\n",
       "</style>\n",
       "<table border=\"1\" class=\"dataframe\">\n",
       "  <thead>\n",
       "    <tr style=\"text-align: right;\">\n",
       "      <th></th>\n",
       "      <th>total_bill</th>\n",
       "      <th>tip</th>\n",
       "      <th>sex</th>\n",
       "      <th>smoker</th>\n",
       "      <th>day</th>\n",
       "      <th>time</th>\n",
       "      <th>size</th>\n",
       "    </tr>\n",
       "  </thead>\n",
       "  <tbody>\n",
       "    <tr>\n",
       "      <th>0</th>\n",
       "      <td>16.99</td>\n",
       "      <td>1.01</td>\n",
       "      <td>Female</td>\n",
       "      <td>No</td>\n",
       "      <td>Sun</td>\n",
       "      <td>Dinner</td>\n",
       "      <td>2</td>\n",
       "    </tr>\n",
       "    <tr>\n",
       "      <th>1</th>\n",
       "      <td>10.34</td>\n",
       "      <td>1.66</td>\n",
       "      <td>Male</td>\n",
       "      <td>No</td>\n",
       "      <td>Sun</td>\n",
       "      <td>Dinner</td>\n",
       "      <td>3</td>\n",
       "    </tr>\n",
       "    <tr>\n",
       "      <th>2</th>\n",
       "      <td>21.01</td>\n",
       "      <td>3.50</td>\n",
       "      <td>Male</td>\n",
       "      <td>No</td>\n",
       "      <td>Sun</td>\n",
       "      <td>Dinner</td>\n",
       "      <td>3</td>\n",
       "    </tr>\n",
       "    <tr>\n",
       "      <th>3</th>\n",
       "      <td>23.68</td>\n",
       "      <td>3.31</td>\n",
       "      <td>Male</td>\n",
       "      <td>No</td>\n",
       "      <td>Sun</td>\n",
       "      <td>Dinner</td>\n",
       "      <td>2</td>\n",
       "    </tr>\n",
       "    <tr>\n",
       "      <th>4</th>\n",
       "      <td>24.59</td>\n",
       "      <td>3.61</td>\n",
       "      <td>Female</td>\n",
       "      <td>No</td>\n",
       "      <td>Sun</td>\n",
       "      <td>Dinner</td>\n",
       "      <td>4</td>\n",
       "    </tr>\n",
       "  </tbody>\n",
       "</table>\n",
       "</div>"
      ],
      "text/plain": [
       "   total_bill   tip     sex smoker  day    time  size\n",
       "0       16.99  1.01  Female     No  Sun  Dinner     2\n",
       "1       10.34  1.66    Male     No  Sun  Dinner     3\n",
       "2       21.01  3.50    Male     No  Sun  Dinner     3\n",
       "3       23.68  3.31    Male     No  Sun  Dinner     2\n",
       "4       24.59  3.61  Female     No  Sun  Dinner     4"
      ]
     },
     "execution_count": 2,
     "metadata": {},
     "output_type": "execute_result"
    }
   ],
   "source": [
    "import pandas as pd\n",
    "import seaborn as sns\n",
    "\n",
    "df = sns.load_dataset(\"tips\")\n",
    "df.head()"
   ]
  },
  {
   "cell_type": "code",
   "execution_count": 6,
   "id": "e969a4e5-d917-4891-aed7-33bd9d1791f9",
   "metadata": {},
   "outputs": [
    {
     "data": {
      "text/plain": [
       "<Axes: xlabel='total_bill', ylabel='Count'>"
      ]
     },
     "execution_count": 6,
     "metadata": {},
     "output_type": "execute_result"
    },
    {
     "data": {
      "image/png": "[encoded data removed]",
      "text/plain": [
       "<Figure size 640x480 with 1 Axes>"
      ]
     },
     "metadata": {},
     "output_type": "display_data"
    }
   ],
   "source": [
    "sns.ecdfplot(df,x=\"total_bill\",hue=\"sex\",stat=\"count\")"
   ]
  },
  {
   "cell_type": "code",
   "execution_count": null,
   "id": "981ea8a2-a4aa-4d28-b273-9b3e1ac2bc22",
   "metadata": {},
   "outputs": [],
   "source": []
  }
 ],
 "metadata": {
  "kernelspec": {
   "display_name": "Python 3 (ipykernel)",
   "language": "python",
   "name": "python3"
  },
  "language_info": {
   "codemirror_mode": {
    "name": "ipython",
    "version": 3
   },
   "file_extension": ".py",
   "mimetype": "text/x-python",
   "name": "python",
   "nbconvert_exporter": "python",
   "pygments_lexer": "ipython3",
   "version": "3.12.5"
  },
  "widgets": {
   "application/vnd.jupyter.widget-state+json": {
    "state": {},
    "version_major": 2,
    "version_minor": 0
   }
  }
 },
 "nbformat": 4,
 "nbformat_minor": 5
}
