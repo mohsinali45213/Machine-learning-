{
 "cells": [
  {
   "cell_type": "code",
   "execution_count": 5,
   "id": "fbd5d93d-e1e4-4e2e-b87d-f4d9a357e6c0",
   "metadata": {},
   "outputs": [],
   "source": [
    "# Example of Perceptron Work\n",
    "import numpy as np\n",
    "x = np.array([[0,0],[0,1],[1,0],[1,1]])\n",
    "y = np.array([0,1,1,1])"
   ]
  },
  {
   "cell_type": "code",
   "execution_count": 6,
   "id": "311e3339-0ecd-4307-a076-77626087dd46",
   "metadata": {},
   "outputs": [
    {
     "data": {
      "text/plain": [
       "(array([[0, 0],\n",
       "        [0, 1],\n",
       "        [1, 0],\n",
       "        [1, 1]]),\n",
       " array([0, 1, 1, 1]))"
      ]
     },
     "execution_count": 6,
     "metadata": {},
     "output_type": "execute_result"
    }
   ],
   "source": [
    "x,y"
   ]
  },
  {
   "cell_type": "code",
   "execution_count": 7,
   "id": "ee0d8699-7b1f-4ec5-bdd1-e88a1a7fa413",
   "metadata": {},
   "outputs": [
    {
     "data": {
      "text/plain": [
       "array([1, 1])"
      ]
     },
     "execution_count": 7,
     "metadata": {},
     "output_type": "execute_result"
    }
   ],
   "source": [
    "w = np.array([1,1])\n",
    "w"
   ]
  },
  {
   "cell_type": "code",
   "execution_count": 8,
   "id": "8ed04426-5b94-49f2-a98a-432d96f94798",
   "metadata": {},
   "outputs": [
    {
     "data": {
      "text/plain": [
       "-0.5"
      ]
     },
     "execution_count": 8,
     "metadata": {},
     "output_type": "execute_result"
    }
   ],
   "source": [
    "b = -0.5\n",
    "b"
   ]
  },
  {
   "cell_type": "code",
   "execution_count": 13,
   "id": "d451666a-9554-4e23-8f71-178d3cb58621",
   "metadata": {},
   "outputs": [
    {
     "data": {
      "text/plain": [
       "[0, 1, 1, 1]"
      ]
     },
     "execution_count": 13,
     "metadata": {},
     "output_type": "execute_result"
    }
   ],
   "source": [
    "pred = []\n",
    "for a in x:\n",
    "    y_hat = np.dot(a,w)+b\n",
    "    pred.append(activation(y_hat))\n",
    "\n",
    "pred"
   ]
  },
  {
   "cell_type": "code",
   "execution_count": 12,
   "id": "30ba2122-43c7-44f3-a734-e582a632b50c",
   "metadata": {},
   "outputs": [],
   "source": [
    "def activation(z):\n",
    "    if z >= 0:\n",
    "        return 1\n",
    "    else:\n",
    "        return 0"
   ]
  },
  {
   "cell_type": "code",
   "execution_count": null,
   "id": "622da883-011a-4a63-99b8-8ebca5ff02d9",
   "metadata": {},
   "outputs": [],
   "source": [
    "#Sklearn Classification Algorithm\n",
    "# 1 Logistic Regression\n",
    "# 2 K Nearest Neighbors Algorithm (KNN)\n",
    "# 3 Decision Tree Algorithm \n",
    "# 4 Random Forest Algorithm \n",
    "# 5 Support Vector Machine Algorithm (SVM)\n",
    "# 6 Naive Bayes Algorithm "
   ]
  }
 ],
 "metadata": {
  "kernelspec": {
   "display_name": "Python 3 (ipykernel)",
   "language": "python",
   "name": "python3"
  },
  "language_info": {
   "codemirror_mode": {
    "name": "ipython",
    "version": 3
   },
   "file_extension": ".py",
   "mimetype": "text/x-python",
   "name": "python",
   "nbconvert_exporter": "python",
   "pygments_lexer": "ipython3",
   "version": "3.12.5"
  }
 },
 "nbformat": 4,
 "nbformat_minor": 5
}
